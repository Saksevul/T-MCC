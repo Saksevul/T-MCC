{
 "cells": [
  {
   "cell_type": "markdown",
   "id": "2ac5e60a",
   "metadata": {},
   "source": [
    "# ResNet-15\n",
    "(https://www.geeksforgeeks.org/residual-networks-resnet-deep-learning/)\n",
    "\n",
    "Diseño de la arquitectura ResNet utilizando Tensorflow y Keras API\n",
    "\n",
    "El dataset utilizado por default es CIFAR-10. Este conjunto contiene 60k imágenes a color de tamaño 32x32 en 10 diferentes clases. \n",
    "\n",
    "First, we import the keras module and its APIs. These APIs help in building architecture of the ResNet model."
   ]
  },
  {
   "cell_type": "code",
   "execution_count": 1,
   "id": "2d84753e",
   "metadata": {},
   "outputs": [
    {
     "name": "stdout",
     "output_type": "stream",
     "text": [
      "  Done! :D\n"
     ]
    }
   ],
   "source": [
    "# importar las librerías\n",
    "# importar el módulo Keras y sus APIs. Estas APIs ayudarán a construir la arquitectura del modelo ResNet\n",
    "import keras\n",
    "from keras.layers import GlobalMaxPool2D, Dense, Conv2D, BatchNormalization, Activation\n",
    "from keras.layers import MaxPooling2D, Input, Flatten\n",
    "from keras.optimizers import Adam\n",
    "from keras.callbacks import ModelCheckpoint, LearningRateScheduler\n",
    "from keras.callbacks import ReduceLROnPlateau\n",
    "from keras.preprocessing.image import ImageDataGenerator\n",
    "from keras.regularizers import l2\n",
    "from keras import backend as K\n",
    "from keras.models import Model\n",
    "from keras.datasets import cifar10\n",
    "from PIL import Image as im\n",
    "import numpy as np\n",
    "import os\n",
    "\n",
    "print(\"  Done! :D\")"
   ]
  },
  {
   "cell_type": "markdown",
   "id": "694dbdd2",
   "metadata": {},
   "source": [
    "Now, We set different hyper parameters that is required for ResNet architecture. We also done some preprocess our datasets to prepare it for training."
   ]
  },
  {
   "cell_type": "code",
   "execution_count": 2,
   "id": "88f76578",
   "metadata": {},
   "outputs": [
    {
     "name": "stdout",
     "output_type": "stream",
     "text": [
      "x_train shape: (50000, 32, 32, 3)\n",
      "50000 train samples\n",
      "10000 test samples\n",
      "y_train shape: (50000, 1)\n",
      "  Done! :D\n"
     ]
    }
   ],
   "source": [
    "# definimos diferentes hiperparámetros que son necesarios para la arquitectura de la ResNet.\n",
    "# realizamos preprocesamiento a las imágenes para el entrenamiento\n",
    "\n",
    "# Setting Training Hyperparameters\n",
    "batch_size = 32 # original ResNet paper uses batch_size = 128 for training\n",
    "epochs = 16\n",
    "data_augmentation = True\n",
    "num_classes = 10\n",
    "\n",
    "# Data Preprocessing\n",
    "subtract_pixel_mean = True\n",
    "n = 3\n",
    "\n",
    "# Select ResNet Version\n",
    "version = 1\n",
    "\n",
    "# Computed depth of\n",
    "if version == 1:\n",
    "    depth = n * 6 + 2\n",
    "elif version == 2:\n",
    "    depth = n * 9 + 2\n",
    "\n",
    "# Model name, depth and version\n",
    "model_type = 'ResNet-%d v%d' % (depth, version)\n",
    "\n",
    "# Load the CIFAR-10 data.\n",
    "(x_train, y_train), (x_test, y_test) = cifar10.load_data()\n",
    "\n",
    "# Input image dimensions.\n",
    "input_shape = x_train.shape[1:]\n",
    "\n",
    "# Normalize data.\n",
    "x_train = x_train.astype('float32') / 255\n",
    "x_test = x_test.astype('float32') / 255\n",
    "\n",
    "# If subtract pixel mean is enabled\n",
    "if subtract_pixel_mean:\n",
    "    x_train_mean = np.mean(x_train, axis = 0)\n",
    "    x_train -= x_train_mean\n",
    "    x_test -= x_train_mean\n",
    "\n",
    "# Print Training and Test Samples\n",
    "print('x_train shape:', x_train.shape)\n",
    "print(x_train.shape[0], 'train samples')\n",
    "print(x_test.shape[0], 'test samples')\n",
    "print('y_train shape:', y_train.shape)\n",
    "\n",
    "# Convert class vectors to binary class matrices.\n",
    "y_train = keras.utils.to_categorical(y_train, num_classes)\n",
    "y_test = keras.utils.to_categorical(y_test, num_classes)\n",
    "\n",
    "print(\"  Done! :D\")"
   ]
  },
  {
   "cell_type": "markdown",
   "id": "e9577dbe",
   "metadata": {},
   "source": [
    "In this step, we set the learning rate according to the number of epochs. As the number of epochs the learning rate must be decreased to ensure better learning."
   ]
  },
  {
   "cell_type": "code",
   "execution_count": 3,
   "id": "123e947f",
   "metadata": {},
   "outputs": [
    {
     "name": "stdout",
     "output_type": "stream",
     "text": [
      "  Done! :D\n"
     ]
    }
   ],
   "source": [
    "# Setting LR for different number of Epochs\n",
    "def lr_schedule(epoch):\n",
    "    lr = 1e-3\n",
    "    if epoch > 180:\n",
    "        lr *= 0.5e-3\n",
    "    elif epoch > 160:\n",
    "        lr *= 1e-3\n",
    "    elif epoch > 120:\n",
    "        lr *= 1e-2\n",
    "    elif epoch > 80:\n",
    "        lr *= 1e-1\n",
    "    print('Learning rate: ', lr)\n",
    "    return lr\n",
    "\n",
    "print(\"  Done! :D\")"
   ]
  },
  {
   "cell_type": "markdown",
   "id": "181ed02d",
   "metadata": {},
   "source": [
    "In this step we define basic ResNet building block that can be used for defining the ResNet V1 and V2 architecture."
   ]
  },
  {
   "cell_type": "code",
   "execution_count": 4,
   "id": "b256a552",
   "metadata": {},
   "outputs": [
    {
     "name": "stdout",
     "output_type": "stream",
     "text": [
      "  Done! :D\n"
     ]
    }
   ],
   "source": [
    "# Basic ResNet Building Block\n",
    "def resnet_layer(inputs,\n",
    "                num_filters = 16,\n",
    "                kernel_size = 3,\n",
    "                strides = 1,\n",
    "                activation ='relu',\n",
    "                batch_normalization = True,\n",
    "                conv_first = True):\n",
    "    \n",
    "    conv = Conv2D(num_filters,\n",
    "                kernel_size = kernel_size,\n",
    "                strides = strides,\n",
    "                padding ='same',\n",
    "                kernel_initializer ='he_normal',\n",
    "                kernel_regularizer = l2(1e-4))\n",
    "    \n",
    "    x = inputs\n",
    "    if conv_first:\n",
    "        x = conv(x)\n",
    "        if batch_normalization:\n",
    "            x = BatchNormalization()(x)\n",
    "        if activation is not None:\n",
    "            x = Activation(activation)(x)\n",
    "    else:\n",
    "        if batch_normalization:\n",
    "            x = BatchNormalization()(x)\n",
    "        if activation is not None:\n",
    "            x = Activation(activation)(x)\n",
    "        x = conv(x)\n",
    "    return x\n",
    "\n",
    "print(\"  Done! :D\")"
   ]
  },
  {
   "cell_type": "markdown",
   "id": "0fb4a168",
   "metadata": {},
   "source": [
    "Arquitectura de la ResNet-15 implementada en el estado del arte"
   ]
  },
  {
   "cell_type": "code",
   "execution_count": 5,
   "id": "2b6f9a1e",
   "metadata": {},
   "outputs": [
    {
     "name": "stdout",
     "output_type": "stream",
     "text": [
      "  Done! :D\n"
     ]
    }
   ],
   "source": [
    "# ResNet-34\n",
    "def resnet_34(input_shape, depth, num_classes = 10):\n",
    "    \n",
    "    if (depth - 2) % 6 != 0:\n",
    "        raise ValueError('depth should be 6n + 2 (eg 20, 32, 44 in [a])')\n",
    "    # Start model definition.\n",
    "    num_filters = 16\n",
    "    # n is the number of resnet blocks\n",
    "    num_res_blocks = int((depth - 2) / 6)\n",
    "    \n",
    "    inputs = Input(shape = input_shape)\n",
    "    \n",
    "    # Conv2D, 7x7 16, /2\n",
    "    x = resnet_layer(inputs = inputs)\n",
    "    #x = resnet_layer(inputs=inputs, num_filters=num_filters, kernel_size=7, strides=2, activation=None)\n",
    "    ## MaxPool, /2\n",
    "    #x = MaxPooling2D(pool_size=(2, 2))(x)\n",
    "    \n",
    "    # Instantiate the stack of residual units\n",
    "    for stack in range(3):\n",
    "        for res_block in range(num_res_blocks):\n",
    "            strides = 1\n",
    "            if stack > 0 and res_block == 0: # first layer but not first stack\n",
    "                strides = 2 # downsample\n",
    "            # Residual block\n",
    "            y = resnet_layer(inputs = x,\n",
    "                            num_filters = num_filters,\n",
    "                            strides = strides)\n",
    "            y = resnet_layer(inputs = y,\n",
    "                            num_filters = num_filters,\n",
    "                            activation = None)\n",
    "            # residual block's skip connection\n",
    "            if stack > 0 and res_block == 0: # first layer but not first stack\n",
    "                # linear projection residual shortcut connection to match\n",
    "                # changed dims\n",
    "                x = resnet_layer(inputs = x,\n",
    "                                num_filters = num_filters,\n",
    "                                kernel_size = 1,\n",
    "                                strides = strides,\n",
    "                                activation = None,\n",
    "                                batch_normalization = False)\n",
    "            x = keras.layers.add([x, y])\n",
    "            x = Activation('relu')(x)\n",
    "        num_filters *= 2\n",
    "    \n",
    "    # GlobalMaxPool\n",
    "    x = GlobalMaxPool2D()(x)\n",
    "    y = Flatten()(x)\n",
    "    outputs = Dense(num_classes,\n",
    "                    activation ='softmax',\n",
    "                    kernel_initializer ='he_normal')(y)\n",
    "    \n",
    "    # Instantiate model.\n",
    "    model = Model(inputs = inputs, outputs = outputs)\n",
    "    return model\n",
    "\n",
    "print(\"  Done! :D\")"
   ]
  },
  {
   "cell_type": "code",
   "execution_count": 6,
   "id": "4d646614",
   "metadata": {},
   "outputs": [],
   "source": [
    "def recall(y_true, y_pred):\n",
    "    y_true = K.ones_like(y_true) \n",
    "    true_positives = K.sum(K.round(K.clip(y_true * y_pred, 0, 1)))\n",
    "    all_positives = K.sum(K.round(K.clip(y_true, 0, 1)))\n",
    "    \n",
    "    recall = true_positives / (all_positives + K.epsilon())\n",
    "    return recall\n",
    "\n",
    "def precision(y_true, y_pred):\n",
    "    y_true = K.ones_like(y_true) \n",
    "    true_positives = K.sum(K.round(K.clip(y_true * y_pred, 0, 1)))\n",
    "    \n",
    "    predicted_positives = K.sum(K.round(K.clip(y_pred, 0, 1)))\n",
    "    precision = true_positives / (predicted_positives + K.epsilon())\n",
    "    return precision"
   ]
  },
  {
   "cell_type": "markdown",
   "id": "9c4d8826",
   "metadata": {},
   "source": [
    "## Main function\n",
    "The code below is used to train and test the ResNet v1 and v2 architecture we defined above:"
   ]
  },
  {
   "cell_type": "code",
   "execution_count": null,
   "id": "3a4cb855",
   "metadata": {},
   "outputs": [],
   "source": [
    "# Main function\n",
    "model = resnet_34(input_shape = input_shape, depth = depth)\n",
    "\n",
    "model.compile(loss ='categorical_crossentropy',\n",
    "            optimizer = Adam(learning_rate = lr_schedule(0)),\n",
    "            metrics =['accuracy',precision,recall])\n",
    "model.summary()\n",
    "print(model_type)\n",
    "\n",
    "# Prepare model saving directory.\n",
    "save_dir = os.path.join(os.getcwd(), 'saved_models')\n",
    "model_name = 'cifar10_% s_model.{epoch:03d}.h5' % model_type\n",
    "if not os.path.isdir(save_dir):\n",
    "    os.makedirs(save_dir)\n",
    "filepath = os.path.join(save_dir, model_name)\n",
    "\n",
    "# Prepare callbacks for model saving and for learning rate adjustment.\n",
    "checkpoint = ModelCheckpoint(filepath = filepath,\n",
    "                            monitor ='val_acc',\n",
    "                            verbose = 1,\n",
    "                            save_best_only = True)\n",
    "\n",
    "lr_scheduler = LearningRateScheduler(lr_schedule)\n",
    "\n",
    "lr_reducer = ReduceLROnPlateau(factor = np.sqrt(0.1),\n",
    "                            cooldown = 0,\n",
    "                            patience = 5,\n",
    "                            min_lr = 0.5e-6)\n",
    "\n",
    "callbacks = [checkpoint, lr_reducer, lr_scheduler]\n",
    "\n",
    "# Run training, with or without data augmentation.\n",
    "if not data_augmentation:\n",
    "    print('Not using data augmentation.')\n",
    "    model.fit(x_train, y_train,\n",
    "            batch_size = batch_size,\n",
    "            epochs = epochs,\n",
    "            validation_data =(x_test, y_test),\n",
    "            shuffle = True,\n",
    "            callbacks = callbacks)\n",
    "else:\n",
    "    print('Using real-time data augmentation.')\n",
    "    # This will do preprocessing and realtime data augmentation:\n",
    "    datagen = ImageDataGenerator(\n",
    "        # set input mean to 0 over the dataset\n",
    "        featurewise_center = False,\n",
    "        # set each sample mean to 0\n",
    "        samplewise_center = False,\n",
    "        # divide inputs by std of dataset\n",
    "        featurewise_std_normalization = False,\n",
    "        # divide each input by its std\n",
    "        samplewise_std_normalization = False,\n",
    "        # apply ZCA whitening\n",
    "        zca_whitening = False,\n",
    "        # epsilon for ZCA whitening\n",
    "        zca_epsilon = 1e-06,\n",
    "        # randomly rotate images in the range (deg 0 to 180)\n",
    "        rotation_range = 0,\n",
    "        # randomly shift images horizontally\n",
    "        width_shift_range = 0.1,\n",
    "        # randomly shift images vertically\n",
    "        height_shift_range = 0.1,\n",
    "        # set range for random shear\n",
    "        shear_range = 0.,\n",
    "        # set range for random zoom\n",
    "        zoom_range = 0.,\n",
    "        # set range for random channel shifts\n",
    "        channel_shift_range = 0.,\n",
    "        # set mode for filling points outside the input boundaries\n",
    "        fill_mode ='nearest',\n",
    "        # value used for fill_mode = \"constant\"\n",
    "        cval = 0.,\n",
    "        # randomly flip images\n",
    "        horizontal_flip = True,\n",
    "        # randomly flip images\n",
    "        vertical_flip = False,\n",
    "        # set rescaling factor (applied before any other transformation)\n",
    "        rescale = None,\n",
    "        # set function that will be applied on each input\n",
    "        preprocessing_function = None,\n",
    "        # image data format, either \"channels_first\" or \"channels_last\"\n",
    "        data_format = None,\n",
    "        # fraction of images reserved for validation (strictly between 0 and 1)\n",
    "        validation_split = 0.0)\n",
    "\n",
    "    # Compute quantities required for featurewise normalization\n",
    "    # (std, mean, and principal components if ZCA whitening is applied).\n",
    "    datagen.fit(x_train)\n",
    "\n",
    "    # Fit the model on the batches generated by datagen.flow().\n",
    "    model.fit_generator(datagen.flow(x_train, y_train, batch_size = batch_size),\n",
    "                        validation_data =(x_test, y_test),\n",
    "                        epochs = epochs, verbose = 1, workers = 4,\n",
    "                        callbacks = callbacks)\n",
    "\n",
    "# Score trained model.\n",
    "scores = model.evaluate(x_test, y_test, verbose = 1)\n",
    "print('Test loss:', scores[0])\n",
    "print('Test accuracy:', scores[1])\n",
    "\n",
    "print(\"  Done! :D\")"
   ]
  }
 ],
 "metadata": {
  "kernelspec": {
   "display_name": "Python 3 (ipykernel)",
   "language": "python",
   "name": "python3"
  },
  "language_info": {
   "codemirror_mode": {
    "name": "ipython",
    "version": 3
   },
   "file_extension": ".py",
   "mimetype": "text/x-python",
   "name": "python",
   "nbconvert_exporter": "python",
   "pygments_lexer": "ipython3",
   "version": "3.9.7"
  }
 },
 "nbformat": 4,
 "nbformat_minor": 5
}
