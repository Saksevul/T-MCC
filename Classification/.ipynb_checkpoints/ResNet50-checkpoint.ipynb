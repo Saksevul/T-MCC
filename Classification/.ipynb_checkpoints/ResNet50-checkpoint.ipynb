{
 "cells": [
  {
   "cell_type": "code",
   "execution_count": 1,
   "id": "823b78e5",
   "metadata": {},
   "outputs": [
    {
     "name": "stdout",
     "output_type": "stream",
     "text": [
      "Imported\n"
     ]
    }
   ],
   "source": [
    "import matplotlib.pyplot as plt\n",
    "import matplotlib.image as img\n",
    "import numpy as np\n",
    "import pathlib\n",
    "import random\n",
    "import PIL\n",
    "import cv2\n",
    "import os\n",
    "import tensorflow as tf\n",
    "from tensorflow import keras\n",
    "from tensorflow.keras import layers, metrics\n",
    "from tensorflow.keras.layers import Dense, Flatten\n",
    "from tensorflow.keras.models import Sequential\n",
    "from tensorflow.keras.optimizers import Adam\n",
    "print('Imported')"
   ]
  },
  {
   "cell_type": "markdown",
   "id": "b8385223",
   "metadata": {},
   "source": [
    "## Import the dataset"
   ]
  },
  {
   "cell_type": "code",
   "execution_count": 20,
   "id": "55a73c85",
   "metadata": {},
   "outputs": [
    {
     "name": "stdout",
     "output_type": "stream",
     "text": [
      "/home/saksevul/T-MCC/calImages/img_validacion <class 'str'>\n",
      "/home/saksevul/T-MCC/calImages/img_validacion <class 'pathlib.PosixPath'>\n",
      "/home/saksevul/T-MCC/calImages/img_validacion/Di/6579_DiJet.jpeg\n",
      "68 144\n"
     ]
    },
    {
     "data": {
      "image/png": "[encoded data removed]",
      "text/plain": [
       "<PIL.JpegImagePlugin.JpegImageFile image mode=RGB size=144x68 at 0x7F970C3B2730>"
      ]
     },
     "execution_count": 20,
     "metadata": {},
     "output_type": "execute_result"
    }
   ],
   "source": [
    "# directorio de datos\n",
    "# data_dir = '/home/saksevul/T-MCC/calImages/seg_ResNet50'\n",
    "data_dir = '/home/saksevul/T-MCC/calImages/img_validacion'\n",
    "print(data_dir, type(data_dir))\n",
    "data_dir = pathlib.Path(data_dir)\n",
    "print(data_dir, type(data_dir))\n",
    "\n",
    "# muestra de imagen de una de las clases\n",
    "DiJ = list(data_dir.glob('Di/*'))\n",
    "print(DiJ[7])\n",
    "imgDi = PIL.Image.open(str(DiJ[7]))\n",
    "print(imgDi.height, imgDi.width)\n",
    "imgDi"
   ]
  },
  {
   "cell_type": "markdown",
   "id": "750aec3f",
   "metadata": {},
   "source": [
    "## Split the data"
   ]
  },
  {
   "cell_type": "code",
   "execution_count": 22,
   "id": "579c2b64",
   "metadata": {},
   "outputs": [
    {
     "name": "stdout",
     "output_type": "stream",
     "text": [
      "Found 6000 files belonging to 3 classes.\n",
      "Using 3600 files for training.\n",
      "<class 'tensorflow.python.data.ops.dataset_ops.BatchDataset'> \n",
      "\n",
      "Found 6000 files belonging to 3 classes.\n",
      "Using 2400 files for validation.\n",
      "<class 'tensorflow.python.data.ops.dataset_ops.BatchDataset'> \n",
      "\n",
      "['Di', 'Multi', 'Random'] <class 'list'> 3 \n",
      "\n"
     ]
    },
    {
     "name": "stderr",
     "output_type": "stream",
     "text": [
      "IOPub data rate exceeded.\n",
      "The notebook server will temporarily stop sending output\n",
      "to the client in order to avoid crashing it.\n",
      "To change this limit, set the config variable\n",
      "`--NotebookApp.iopub_data_rate_limit`.\n",
      "\n",
      "Current values:\n",
      "NotebookApp.iopub_data_rate_limit=1000000.0 (bytes/sec)\n",
      "NotebookApp.rate_limit_window=3.0 (secs)\n",
      "\n"
     ]
    }
   ],
   "source": [
    "# porcion de datos de validacion\n",
    "p = 0.4\n",
    "\n",
    "img_height,img_width=imgDi.height,imgDi.width\n",
    "batch_size=8\n",
    "\n",
    "# datos de entrenamiento\n",
    "train_ds = tf.keras.preprocessing.image_dataset_from_directory(\n",
    "  data_dir,\n",
    "  validation_split=p,\n",
    "  subset=\"training\",\n",
    "  seed=123,\n",
    "  label_mode='categorical',\n",
    "  image_size=(img_height, img_width),\n",
    "  batch_size=batch_size)\n",
    "print(type(train_ds), '\\n')\n",
    "\n",
    "# datos de validacion\n",
    "val_ds = tf.keras.preprocessing.image_dataset_from_directory(\n",
    "  data_dir,\n",
    "  validation_split=p,\n",
    "  subset=\"validation\",\n",
    "  seed=123,\n",
    "  label_mode='categorical',\n",
    "  image_size=(img_height, img_width),\n",
    "  batch_size=batch_size)\n",
    "print(type(val_ds), '\\n')\n",
    "\n",
    "# clases de los datos utilizados\n",
    "class_names = train_ds.class_names\n",
    "img_classes = len(class_names)\n",
    "print(class_names, type(class_names), img_classes, '\\n')\n",
    "\n",
    "print(list(train_ds.as_numpy_iterator()))"
   ]
  },
  {
   "cell_type": "markdown",
   "id": "d4bc6d45",
   "metadata": {},
   "source": [
    "## Import the pre-trained model"
   ]
  },
  {
   "cell_type": "code",
   "execution_count": 4,
   "id": "2814eb2b",
   "metadata": {},
   "outputs": [
    {
     "name": "stdout",
     "output_type": "stream",
     "text": [
      "Model: \"sequential\"\n",
      "_________________________________________________________________\n",
      "Layer (type)                 Output Shape              Param #   \n",
      "=================================================================\n",
      "resnet50 (Functional)        (None, 2048)              23587712  \n",
      "_________________________________________________________________\n",
      "flatten (Flatten)            (None, 2048)              0         \n",
      "_________________________________________________________________\n",
      "dense (Dense)                (None, 3)                 6147      \n",
      "=================================================================\n",
      "Total params: 23,593,859\n",
      "Trainable params: 23,540,739\n",
      "Non-trainable params: 53,120\n",
      "_________________________________________________________________\n"
     ]
    }
   ],
   "source": [
    "resnet_model = Sequential()\n",
    "\n",
    "# excluimos el top de la red para no tener problemas con la dimension de las imagenes\n",
    "pretrained_model= tf.keras.applications.ResNet50(include_top=False,\n",
    "                   input_shape=(img_height,img_width,3),\n",
    "                   pooling='avg', \n",
    "                   classes=img_classes,\n",
    "                   weights='imagenet')\n",
    "# # no se entrenan las capas internas del modelo de transfer learning \n",
    "# for layer in pretrained_model.layers:\n",
    "#         layer.trainable=False\n",
    "\n",
    "resnet_model.add(pretrained_model)\n",
    "resnet_model.add(Flatten())\n",
    "# capas adicionales en la red, estas serán entrenadas\n",
    "# resnet_model.add(Dense(512, activation='relu'))\n",
    "# capa final con el número de clases\n",
    "resnet_model.add(Dense(img_classes, activation='softmax'))\n",
    "\n",
    "resnet_model.summary()"
   ]
  },
  {
   "cell_type": "markdown",
   "id": "4ffa108a",
   "metadata": {},
   "source": [
    "## Compile the model"
   ]
  },
  {
   "cell_type": "code",
   "execution_count": 5,
   "id": "ef865337",
   "metadata": {},
   "outputs": [
    {
     "name": "stdout",
     "output_type": "stream",
     "text": [
      "Epoch 1/32\n"
     ]
    },
    {
     "name": "stderr",
     "output_type": "stream",
     "text": [
      "2022-04-27 12:41:41.371456: I tensorflow/compiler/mlir/mlir_graph_optimization_pass.cc:116] None of the MLIR optimization passes are enabled (registered 2)\n",
      "2022-04-27 12:41:41.408232: I tensorflow/core/platform/profile_utils/cpu_utils.cc:112] CPU Frequency: 2496000000 Hz\n"
     ]
    },
    {
     "name": "stdout",
     "output_type": "stream",
     "text": [
      "450/450 [==============================] - 568s 1s/step - loss: 1.4590 - accuracy: 0.4980 - precision: 0.5217 - recall: 0.4114 - val_loss: 2.6099 - val_accuracy: 0.4929 - val_precision: 0.4980 - val_recall: 0.4721\n",
      "Epoch 2/32\n",
      "450/450 [==============================] - 541s 1s/step - loss: 0.6931 - accuracy: 0.7250 - precision: 0.7609 - recall: 0.6686 - val_loss: 1.4265 - val_accuracy: 0.5813 - val_precision: 0.5872 - val_recall: 0.5683\n",
      "Epoch 3/32\n",
      "450/450 [==============================] - 554s 1s/step - loss: 0.5969 - accuracy: 0.7607 - precision: 0.7844 - recall: 0.7259 - val_loss: 0.6964 - val_accuracy: 0.7638 - val_precision: 0.7737 - val_recall: 0.7550\n",
      "Epoch 4/32\n",
      "450/450 [==============================] - 546s 1s/step - loss: 0.5798 - accuracy: 0.7895 - precision: 0.8078 - recall: 0.7615 - val_loss: 0.7418 - val_accuracy: 0.7700 - val_precision: 0.7837 - val_recall: 0.7517\n",
      "Epoch 5/32\n",
      "450/450 [==============================] - 557s 1s/step - loss: 0.5454 - accuracy: 0.7932 - precision: 0.8125 - recall: 0.7719 - val_loss: 0.5683 - val_accuracy: 0.7808 - val_precision: 0.7931 - val_recall: 0.7621\n",
      "Epoch 6/32\n",
      "450/450 [==============================] - 562s 1s/step - loss: 0.5015 - accuracy: 0.8134 - precision: 0.8265 - recall: 0.7883 - val_loss: 0.5944 - val_accuracy: 0.7829 - val_precision: 0.7973 - val_recall: 0.7750\n",
      "Epoch 7/32\n",
      "450/450 [==============================] - 562s 1s/step - loss: 0.4519 - accuracy: 0.8369 - precision: 0.8492 - recall: 0.8158 - val_loss: 0.8427 - val_accuracy: 0.6979 - val_precision: 0.7092 - val_recall: 0.6837\n",
      "Epoch 8/32\n",
      "450/450 [==============================] - 545s 1s/step - loss: 0.4277 - accuracy: 0.8418 - precision: 0.8576 - recall: 0.8242 - val_loss: 0.7730 - val_accuracy: 0.7292 - val_precision: 0.7445 - val_recall: 0.7188\n",
      "Epoch 9/32\n",
      "450/450 [==============================] - 551s 1s/step - loss: 0.3952 - accuracy: 0.8617 - precision: 0.8742 - recall: 0.8463 - val_loss: 0.6714 - val_accuracy: 0.7763 - val_precision: 0.7859 - val_recall: 0.7708\n",
      "Epoch 10/32\n",
      "450/450 [==============================] - 559s 1s/step - loss: 0.3396 - accuracy: 0.8773 - precision: 0.8870 - recall: 0.8659 - val_loss: 0.8395 - val_accuracy: 0.7400 - val_precision: 0.7462 - val_recall: 0.7325\n",
      "Epoch 11/32\n",
      "450/450 [==============================] - 544s 1s/step - loss: 0.3008 - accuracy: 0.8939 - precision: 0.9009 - recall: 0.8874 - val_loss: 1.2624 - val_accuracy: 0.6071 - val_precision: 0.6142 - val_recall: 0.6050\n",
      "Epoch 12/32\n",
      "450/450 [==============================] - 554s 1s/step - loss: 0.2345 - accuracy: 0.9135 - precision: 0.9200 - recall: 0.9074 - val_loss: 0.8582 - val_accuracy: 0.7425 - val_precision: 0.7464 - val_recall: 0.7358\n",
      "Epoch 13/32\n",
      "450/450 [==============================] - 566s 1s/step - loss: 0.2628 - accuracy: 0.9058 - precision: 0.9138 - recall: 0.8976 - val_loss: 1.0555 - val_accuracy: 0.7208 - val_precision: 0.7306 - val_recall: 0.7129\n",
      "Epoch 14/32\n",
      "450/450 [==============================] - 548s 1s/step - loss: 0.2089 - accuracy: 0.9232 - precision: 0.9279 - recall: 0.9190 - val_loss: 0.8662 - val_accuracy: 0.7858 - val_precision: 0.7936 - val_recall: 0.7804\n",
      "Epoch 15/32\n",
      "450/450 [==============================] - 563s 1s/step - loss: 0.1542 - accuracy: 0.9469 - precision: 0.9481 - recall: 0.9424 - val_loss: 0.9757 - val_accuracy: 0.7792 - val_precision: 0.7856 - val_recall: 0.7754\n",
      "Epoch 16/32\n",
      "450/450 [==============================] - 617s 1s/step - loss: 0.1832 - accuracy: 0.9381 - precision: 0.9423 - recall: 0.9362 - val_loss: 0.8536 - val_accuracy: 0.7633 - val_precision: 0.7729 - val_recall: 0.7571\n",
      "Epoch 17/32\n",
      "450/450 [==============================] - 616s 1s/step - loss: 0.1586 - accuracy: 0.9478 - precision: 0.9509 - recall: 0.9461 - val_loss: 1.0737 - val_accuracy: 0.7758 - val_precision: 0.7804 - val_recall: 0.7729\n",
      "Epoch 18/32\n",
      "450/450 [==============================] - 617s 1s/step - loss: 0.1480 - accuracy: 0.9471 - precision: 0.9498 - recall: 0.9465 - val_loss: 0.7861 - val_accuracy: 0.8054 - val_precision: 0.8110 - val_recall: 0.8008\n",
      "Epoch 19/32\n",
      "450/450 [==============================] - 591s 1s/step - loss: 0.0971 - accuracy: 0.9642 - precision: 0.9655 - recall: 0.9629 - val_loss: 0.8857 - val_accuracy: 0.7575 - val_precision: 0.7644 - val_recall: 0.7529\n",
      "Epoch 20/32\n",
      "450/450 [==============================] - 575s 1s/step - loss: 0.1016 - accuracy: 0.9657 - precision: 0.9672 - recall: 0.9633 - val_loss: 0.9393 - val_accuracy: 0.7875 - val_precision: 0.7902 - val_recall: 0.7817\n",
      "Epoch 21/32\n",
      "450/450 [==============================] - 555s 1s/step - loss: 0.1076 - accuracy: 0.9654 - precision: 0.9657 - recall: 0.9642 - val_loss: 0.9031 - val_accuracy: 0.7979 - val_precision: 0.8000 - val_recall: 0.7950\n",
      "Epoch 22/32\n",
      "450/450 [==============================] - 537s 1s/step - loss: 0.1107 - accuracy: 0.9661 - precision: 0.9667 - recall: 0.9622 - val_loss: 1.0095 - val_accuracy: 0.7788 - val_precision: 0.7832 - val_recall: 0.7750\n",
      "Epoch 23/32\n",
      "450/450 [==============================] - 529s 1s/step - loss: 0.0904 - accuracy: 0.9725 - precision: 0.9734 - recall: 0.9712 - val_loss: 0.9496 - val_accuracy: 0.7842 - val_precision: 0.7878 - val_recall: 0.7812\n",
      "Epoch 24/32\n",
      "450/450 [==============================] - 532s 1s/step - loss: 0.1136 - accuracy: 0.9650 - precision: 0.9666 - recall: 0.9644 - val_loss: 0.9879 - val_accuracy: 0.7858 - val_precision: 0.7877 - val_recall: 0.7821\n",
      "Epoch 25/32\n",
      "450/450 [==============================] - 505s 1s/step - loss: 0.0599 - accuracy: 0.9800 - precision: 0.9805 - recall: 0.9788 - val_loss: 1.0753 - val_accuracy: 0.7821 - val_precision: 0.7846 - val_recall: 0.7800\n",
      "Epoch 26/32\n",
      "450/450 [==============================] - 541s 1s/step - loss: 0.0522 - accuracy: 0.9862 - precision: 0.9863 - recall: 0.9842 - val_loss: 1.0720 - val_accuracy: 0.7808 - val_precision: 0.7865 - val_recall: 0.7767\n",
      "Epoch 27/32\n",
      "450/450 [==============================] - 574s 1s/step - loss: 0.0649 - accuracy: 0.9809 - precision: 0.9813 - recall: 0.9803 - val_loss: 1.1985 - val_accuracy: 0.7842 - val_precision: 0.7862 - val_recall: 0.7812\n",
      "Epoch 28/32\n",
      "450/450 [==============================] - 553s 1s/step - loss: 0.1155 - accuracy: 0.9643 - precision: 0.9652 - recall: 0.9637 - val_loss: 1.0866 - val_accuracy: 0.7821 - val_precision: 0.7842 - val_recall: 0.7800\n",
      "Epoch 29/32\n",
      "450/450 [==============================] - 524s 1s/step - loss: 0.0460 - accuracy: 0.9850 - precision: 0.9853 - recall: 0.9837 - val_loss: 1.1469 - val_accuracy: 0.7854 - val_precision: 0.7877 - val_recall: 0.7821\n",
      "Epoch 30/32\n",
      "450/450 [==============================] - 532s 1s/step - loss: 0.1056 - accuracy: 0.9654 - precision: 0.9669 - recall: 0.9647 - val_loss: 1.1517 - val_accuracy: 0.7854 - val_precision: 0.7867 - val_recall: 0.7837\n",
      "Epoch 31/32\n",
      "450/450 [==============================] - 455s 1s/step - loss: 0.0602 - accuracy: 0.9781 - precision: 0.9781 - recall: 0.9781 - val_loss: 1.1185 - val_accuracy: 0.8029 - val_precision: 0.8041 - val_recall: 0.8004\n",
      "Epoch 32/32\n",
      "450/450 [==============================] - 469s 1s/step - loss: 0.0217 - accuracy: 0.9939 - precision: 0.9939 - recall: 0.9939 - val_loss: 1.2717 - val_accuracy: 0.7754 - val_precision: 0.7781 - val_recall: 0.7742\n"
     ]
    }
   ],
   "source": [
    "# compilar el modelo\n",
    "resnet_model.compile(optimizer=Adam(lr=0.001),\n",
    "                     loss='categorical_crossentropy',\n",
    "                     metrics=['accuracy',metrics.Precision(),metrics.Recall()])\n",
    "\n",
    "# epocas de entrenamiento\n",
    "epochs=32\n",
    "\n",
    "# almacenar los valores del entrenamiento\n",
    "history = resnet_model.fit(\n",
    "    train_ds,\n",
    "    validation_data=val_ds,\n",
    "    epochs=epochs)"
   ]
  },
  {
   "cell_type": "markdown",
   "id": "2a86a9b6",
   "metadata": {},
   "source": [
    "## Evaluating the model"
   ]
  },
  {
   "cell_type": "code",
   "execution_count": 14,
   "id": "b2d0e763",
   "metadata": {},
   "outputs": [
    {
     "data": {
      "image/png": "[encoded data removed]",
      "text/plain": [
       "<Figure size 720x720 with 1 Axes>"
      ]
     },
     "metadata": {
      "needs_background": "dark"
     },
     "output_type": "display_data"
    }
   ],
   "source": [
    "plt.figure(figsize=(10, 10))\n",
    "fig1 = plt.gcf()\n",
    "plt.plot(history.history['precision'])\n",
    "plt.plot(history.history['recall'])\n",
    "plt.plot(history.history['val_precision'])\n",
    "plt.plot(history.history['val_recall'])\n",
    "plt.axis(ymin=0.0,ymax=1.01)\n",
    "plt.xticks(fontsize=12,color=\"white\")\n",
    "plt.yticks(fontsize=12,color=\"white\")\n",
    "plt.grid()\n",
    "plt.title('Model Metrics',fontsize=18,color=\"white\")\n",
    "plt.ylabel('Metrics',fontsize=15,color=\"white\")\n",
    "plt.xlabel('Epochs',fontsize=15,color=\"white\")\n",
    "plt.legend(['precision', 'recall', 'val_precision', 'val_recall'])\n",
    "plt.show()\n",
    "fig1.savefig('/home/saksevul/Pictures/MCC/Classifier/'+str(data_dir)[31:34]+'_rn50_'+'bs-'+str(batch_size)+'.png', format='png')"
   ]
  },
  {
   "cell_type": "markdown",
   "id": "6b9d3e73",
   "metadata": {},
   "source": [
    "## Making predictions"
   ]
  },
  {
   "cell_type": "code",
   "execution_count": 24,
   "id": "00056ce5",
   "metadata": {},
   "outputs": [
    {
     "name": "stderr",
     "output_type": "stream",
     "text": [
      "/home/saksevul/anaconda3/envs/tf/lib/python3.9/site-packages/tensorflow/python/keras/engine/sequential.py:450: UserWarning: `model.predict_classes()` is deprecated and will be removed after 2021-01-01. Please use instead:* `np.argmax(model.predict(x), axis=-1)`,   if your model does multi-class classification   (e.g. if it uses a `softmax` last-layer activation).* `(model.predict(x) > 0.5).astype(\"int32\")`,   if your model does binary classification   (e.g. if it uses a `sigmoid` last-layer activation).\n",
      "  warnings.warn('`model.predict_classes()` is deprecated and '\n"
     ]
    },
    {
     "ename": "AttributeError",
     "evalue": "module 'tensorflow' has no attribute 'predict_classes'",
     "output_type": "error",
     "traceback": [
      "\u001b[0;31m---------------------------------------------------------------------------\u001b[0m",
      "\u001b[0;31mAttributeError\u001b[0m                            Traceback (most recent call last)",
      "\u001b[0;32m/tmp/ipykernel_1959765/2230624383.py\u001b[0m in \u001b[0;36m<module>\u001b[0;34m\u001b[0m\n\u001b[1;32m      1\u001b[0m \u001b[0mclassesPred\u001b[0m \u001b[0;34m=\u001b[0m \u001b[0mresnet_model\u001b[0m\u001b[0;34m.\u001b[0m\u001b[0mpredict_classes\u001b[0m\u001b[0;34m(\u001b[0m\u001b[0mval_ds\u001b[0m\u001b[0;34m)\u001b[0m\u001b[0;34m\u001b[0m\u001b[0;34m\u001b[0m\u001b[0m\n\u001b[0;32m----> 2\u001b[0;31m \u001b[0mclassesPred\u001b[0m \u001b[0;34m=\u001b[0m \u001b[0mtf\u001b[0m\u001b[0;34m.\u001b[0m\u001b[0mpredict_classes\u001b[0m\u001b[0;34m(\u001b[0m\u001b[0mval_ds\u001b[0m\u001b[0;34m)\u001b[0m\u001b[0;34m\u001b[0m\u001b[0;34m\u001b[0m\u001b[0m\n\u001b[0m",
      "\u001b[0;31mAttributeError\u001b[0m: module 'tensorflow' has no attribute 'predict_classes'"
     ]
    }
   ],
   "source": [
    "classesPred = resnet_model.evaluate(val_ds)"
   ]
  },
  {
   "cell_type": "code",
   "execution_count": 18,
   "id": "22390da4",
   "metadata": {},
   "outputs": [
    {
     "name": "stdout",
     "output_type": "stream",
     "text": [
      "/home/saksevul/T-MCC/calImages/img_validation2/Di/10584_DiJet.jpg\n",
      "[[9.9996150e-01 3.5692890e-05 2.8522052e-06]]\n",
      "  The predicted class is Di \n",
      "\n",
      "/home/saksevul/T-MCC/calImages/img_validation2/Multi/6628_MultiJet.jpeg\n",
      "[[0.15245353 0.8465431  0.00100342]]\n",
      "  The predicted class is Multi \n",
      "\n",
      "/home/saksevul/T-MCC/calImages/img_validation2/Random/7632_RandomJet.jpeg\n",
      "[[4.02665744e-03 1.10017346e-07 9.95973170e-01]]\n",
      "  The predicted class is Random \n",
      "\n"
     ]
    }
   ],
   "source": [
    "# directorio de datos\n",
    "data_dir = '/home/saksevul/T-MCC/calImages/img_validacion'\n",
    "data_dir = pathlib.Path(data_dir)\n",
    "\n",
    "DiJ = list(data_dir.glob('Di/*'))\n",
    "MultiJ = list(data_dir.glob('Multi/*'))\n",
    "RandomJ = list(data_dir.glob('Random/*'))\n",
    "\n",
    "u = random.randrange(0,900)\n",
    "v = random.randrange(0,900)\n",
    "w = random.randrange(0,900)\n",
    "\n",
    "for i in [str(DiJ[u]), str(MultiJ[v]), str(RandomJ[w])]:\n",
    "    print(i)\n",
    "    image=np.expand_dims(cv2.resize(cv2.imread(i),(img_width,img_height)),axis=0)\n",
    "    pred=resnet_model.predict(image)\n",
    "    print(pred)\n",
    "    print('  The predicted class is', class_names[np.argmax(pred)], '\\n')"
   ]
  }
 ],
 "metadata": {
  "kernelspec": {
   "display_name": "Python 3 (ipykernel)",
   "language": "python",
   "name": "python3"
  },
  "language_info": {
   "codemirror_mode": {
    "name": "ipython",
    "version": 3
   },
   "file_extension": ".py",
   "mimetype": "text/x-python",
   "name": "python",
   "nbconvert_exporter": "python",
   "pygments_lexer": "ipython3",
   "version": "3.9.7"
  }
 },
 "nbformat": 4,
 "nbformat_minor": 5
}
